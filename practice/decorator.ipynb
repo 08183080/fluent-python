{
 "cells": [
  {
   "cell_type": "code",
   "execution_count": 1,
   "metadata": {},
   "outputs": [
    {
     "name": "stdout",
     "output_type": "stream",
     "text": [
      "3\n"
     ]
    },
    {
     "ename": "NameError",
     "evalue": "name 'b' is not defined",
     "output_type": "error",
     "traceback": [
      "\u001b[1;31m---------------------------------------------------------------------------\u001b[0m",
      "\u001b[1;31mNameError\u001b[0m                                 Traceback (most recent call last)",
      "Cell \u001b[1;32mIn[1], line 4\u001b[0m\n\u001b[0;32m      2\u001b[0m     \u001b[38;5;28mprint\u001b[39m(a)\n\u001b[0;32m      3\u001b[0m     \u001b[38;5;28mprint\u001b[39m(b)\n\u001b[1;32m----> 4\u001b[0m \u001b[43mf1\u001b[49m\u001b[43m(\u001b[49m\u001b[38;5;241;43m3\u001b[39;49m\u001b[43m)\u001b[49m\n",
      "Cell \u001b[1;32mIn[1], line 3\u001b[0m, in \u001b[0;36mf1\u001b[1;34m(a)\u001b[0m\n\u001b[0;32m      1\u001b[0m \u001b[38;5;28;01mdef\u001b[39;00m \u001b[38;5;21mf1\u001b[39m(a):\n\u001b[0;32m      2\u001b[0m     \u001b[38;5;28mprint\u001b[39m(a)\n\u001b[1;32m----> 3\u001b[0m     \u001b[38;5;28mprint\u001b[39m(\u001b[43mb\u001b[49m)\n",
      "\u001b[1;31mNameError\u001b[0m: name 'b' is not defined"
     ]
    }
   ],
   "source": [
    "def f1(a):\n",
    "    print(a)\n",
    "    print(b)\n",
    "f1(3)"
   ]
  },
  {
   "cell_type": "code",
   "execution_count": 2,
   "metadata": {},
   "outputs": [
    {
     "name": "stdout",
     "output_type": "stream",
     "text": [
      "3\n",
      "2\n"
     ]
    }
   ],
   "source": [
    "b = 2\n",
    "def f1(a):\n",
    "    print(a)\n",
    "    print(b)\n",
    "f1(3)"
   ]
  },
  {
   "cell_type": "code",
   "execution_count": 4,
   "metadata": {},
   "outputs": [
    {
     "name": "stdout",
     "output_type": "stream",
     "text": [
      "3\n",
      "2\n",
      "3\n"
     ]
    }
   ],
   "source": [
    "b = 2\n",
    "def f1(a):\n",
    "    global b\n",
    "    print(a)\n",
    "    print(b)\n",
    "    b = 3\n",
    "f1(3)\n",
    "print(b)"
   ]
  },
  {
   "cell_type": "code",
   "execution_count": 5,
   "metadata": {},
   "outputs": [
    {
     "name": "stdout",
     "output_type": "stream",
     "text": [
      "  2           0 RESUME                   0\n",
      "\n",
      "  4           2 LOAD_GLOBAL              1 (NULL + print)\n",
      "             12 LOAD_FAST                0 (a)\n",
      "             14 CALL                     1\n",
      "             22 POP_TOP\n",
      "\n",
      "  5          24 LOAD_GLOBAL              1 (NULL + print)\n",
      "             34 LOAD_GLOBAL              2 (b)\n",
      "             44 CALL                     1\n",
      "             52 POP_TOP\n",
      "\n",
      "  6          54 LOAD_CONST               1 (3)\n",
      "             56 STORE_GLOBAL             1 (b)\n",
      "             58 RETURN_CONST             0 (None)\n"
     ]
    }
   ],
   "source": [
    "from dis import  dis\n",
    "dis(f1)"
   ]
  },
  {
   "cell_type": "code",
   "execution_count": null,
   "metadata": {},
   "outputs": [],
   "source": []
  }
 ],
 "metadata": {
  "kernelspec": {
   "display_name": "Python 3",
   "language": "python",
   "name": "python3"
  },
  "language_info": {
   "codemirror_mode": {
    "name": "ipython",
    "version": 3
   },
   "file_extension": ".py",
   "mimetype": "text/x-python",
   "name": "python",
   "nbconvert_exporter": "python",
   "pygments_lexer": "ipython3",
   "version": "3.12.0"
  }
 },
 "nbformat": 4,
 "nbformat_minor": 2
}
